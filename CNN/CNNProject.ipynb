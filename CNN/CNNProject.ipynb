{
 "cells": [
  {
   "cell_type": "code",
   "execution_count": null,
   "id": "c39cabbf-ae5a-45e4-a19b-da36d8d72a7e",
   "metadata": {},
   "outputs": [],
   "source": [
    "import sys\n",
    "sys.version"
   ]
  },
  {
   "cell_type": "code",
   "execution_count": null,
   "id": "3a96c827-1394-45d4-bf4a-da7c8bc3a1ae",
   "metadata": {},
   "outputs": [],
   "source": [
    "import os\n",
    "import pandas as pd\n",
    "import numpy as np\n",
    "import glob\n",
    "\n",
    "from PIL import Image\n",
    "from sklearn.utils import shuffle\n",
    "from sklearn.model_selection import train_test_split\n",
    "from sklearn.metrics import confusion_matrix\n",
    "from tensorflow.keras.models import Model, load_model\n",
    "from tensorflow.keras.layers import Input, Conv2D, Flatten, Dense, Normalization, MaxPooling2D, Dropout, Activation\n",
    "from tensorflow.keras.optimizers import Adam\n",
    "from tensorflow.keras.preprocessing import image"
   ]
  },
  {
   "cell_type": "code",
   "execution_count": null,
   "id": "4515fb02-5882-42e9-baba-389fc24ebabb",
   "metadata": {},
   "outputs": [],
   "source": [
    "# 이미지 폴더에서 파일을 찾아 전처리\n",
    "class AutoImageClassification:\n",
    "    def __init__(self, path):\n",
    "        self.df = self._create_df(path)\n",
    "        self.train_df, self.test_df = self._split_data(self.df, test_size=0.2)\n",
    "\n",
    "    @staticmethod\n",
    "    def _create_df(path):\n",
    "        files1 = glob.glob(os.path.join(path, \"정상\", \"*.png\")) \n",
    "        files2 = glob.glob(os.path.join(path, \"불량\", \"*.png\"))\n",
    "\n",
    "        # 파일 개수 출력\n",
    "        print('정상 사진 개수: ', len(files1))\n",
    "        print('불량 사진 개수: ', len(files2))\n",
    "        \n",
    "        df_n = pd.DataFrame()\n",
    "        df_p = pd.DataFrame()\n",
    "        df_n['name'] = [x for x in files2]\n",
    "        df_n['outcome'] = 0.\n",
    "        df_p['name'] = [x for x in files1]\n",
    "        df_p['outcome'] = 1.\n",
    "        \n",
    "        # 두 DataFrame 합치고 랜덤 섞기\n",
    "        df = pd.concat([df_n, df_p], axis=0, ignore_index=True)\n",
    "        df = shuffle(df)\n",
    "        return df\n",
    "\n",
    "    # # stratify 옵션을 주어 outcome 비율(정상/불량)을 유지하면서 train/test 분리\n",
    "    @staticmethod\n",
    "    def _split_data(df, test_size=0.2):\n",
    "        train_df, test_df = train_test_split(df, test_size=test_size, stratify=df['outcome'])\n",
    "        return train_df, test_df\n",
    "\n",
    "    # 이미지 파일 전처리\n",
    "    @staticmethod\n",
    "    def img_preprocess(path):\n",
    "        img = Image.open(path)\n",
    "        # RGB 3채널로 통일 (흑백/투명 배경 대비)\n",
    "        img = img.convert('RGB')\n",
    "        img = img.resize((256, 256))\n",
    "         # numpy 배열로 변환 (모델 학습용 데이터 형식)\n",
    "        img = np.asarray(img)\n",
    "        return img\n",
    "\n",
    "    # DataFrame을 입력받아 X(이미지 데이터), y(레이블) 배열 생성 전처리 후 numpy array 변환\n",
    "    def create_x_and_y(self, df):\n",
    "        X = np.array([self.img_preprocess(p) for p in df.name.values]) \n",
    "        y = df.outcome.values\n",
    "        return X, y\n",
    "\n",
    "dir_path = os.path.join(os.getcwd(), 'image')\n",
    "aic = AutoImageClassification(path=dir_path)\n",
    "\n",
    "# 학습 데이터 준비\n",
    "X_train, y_train = aic.create_x_and_y(aic.train_df)\n",
    "X_test, y_test = aic.create_x_and_y(aic.test_df)"
   ]
  },
  {
   "cell_type": "code",
   "execution_count": null,
   "id": "7035e0c1-b19b-4380-bb80-67d1e4d33d38",
   "metadata": {},
   "outputs": [],
   "source": [
    "# CNN 모델 학습\n",
    "def create_model(input_shape):\n",
    "    inputs = Input(shape=input_shape)\n",
    "    x = Normalization()(inputs)\n",
    "    x = Conv2D(32, (3, 3), activation='relu')(x)\n",
    "    x = Conv2D(64, (3, 3), activation='relu')(x)\n",
    "    x = MaxPooling2D(pool_size=(2, 2))(x)\n",
    "    x = Dropout(0.25)(x)\n",
    "    x = Flatten()(x)\n",
    "    x = Dropout(0.5)(x)\n",
    "    x = Dense(1)(x)\n",
    "    outputs = Activation('sigmoid')(x)\n",
    "    \n",
    "    model = Model(inputs=inputs, outputs=outputs)\n",
    "    return model\n",
    "\n",
    "# 모델 생성 및 컴파일\n",
    "input_shape = (256, 256, 3)\n",
    "model = create_model(input_shape)\n",
    "model.compile(optimizer=Adam(),\n",
    "              loss='binary_crossentropy',\n",
    "              metrics=['accuracy'])\n",
    "\n",
    "# 모델 구조 출력\n",
    "model.summary()\n",
    "\n",
    "# 모델 학습\n",
    "model.fit(x=X_train, y=y_train, epochs=5, validation_split=0.2, verbose=2)\n",
    "\n",
    "# 학습된 모델 저장\n",
    "model.save(\"model.keras\")"
   ]
  },
  {
   "cell_type": "code",
   "execution_count": null,
   "id": "0e319147-9c50-4a48-80a0-f59116f2d535",
   "metadata": {},
   "outputs": [],
   "source": [
    "y_pred = model.predict(X_test)\n",
    "y_pred = (y_pred > 0.5).astype(int).flatten()"
   ]
  },
  {
   "cell_type": "code",
   "execution_count": null,
   "id": "36cf6b70-aa9e-4650-8013-dc91c7723aa1",
   "metadata": {},
   "outputs": [],
   "source": [
    "cm = confusion_matrix(y_test, y_pred, labels=[1, 0])\n",
    "print(cm)"
   ]
  },
  {
   "cell_type": "code",
   "execution_count": 7,
   "id": "757fef83-10dd-4453-8874-31922a0757dc",
   "metadata": {},
   "outputs": [],
   "source": [
    "def imageCheck(img, model):\n",
    "\n",
    "    model = load_model(model)\n",
    "\n",
    "    # 테스트 이미지를 전처리하는 함수\n",
    "    def preprocess_image(img_path):\n",
    "        img = image.load_img(img_path, target_size=(256, 256))\n",
    "        img_array = image.img_to_array(img)\n",
    "        img_array = np.expand_dims(img_array, axis=0)\n",
    "        img_array /= 255.0 \n",
    "        return img_array\n",
    "\n",
    "    # 이미지 분석 결과 값을 출력\n",
    "    def predict_image(img_path):\n",
    "        img_array = preprocess_image(img_path)\n",
    "        prediction = model.predict(img_array)\n",
    "        predicted_class = round(prediction[0][0], 0)\n",
    "        if predicted_class == 0:\n",
    "            return \"불량\"\n",
    "        else:\n",
    "            return \"정상\"\n",
    "\n",
    "    result = predict_image(img)\n",
    "    \n",
    "    return print(f'이미지는 {result}으로 분류되었습니다.')"
   ]
  },
  {
   "cell_type": "code",
   "execution_count": null,
   "id": "3a70317b-fbf5-4db4-8178-3beaf008af32",
   "metadata": {},
   "outputs": [],
   "source": [
    "imageCheck('불량1.png', 'model.keras')"
   ]
  },
  {
   "cell_type": "code",
   "execution_count": null,
   "id": "a15035db-784d-4bf2-afff-950cea4cc8df",
   "metadata": {},
   "outputs": [],
   "source": []
  }
 ],
 "metadata": {
  "kernelspec": {
   "display_name": "project",
   "language": "python",
   "name": "project"
  },
  "language_info": {
   "codemirror_mode": {
    "name": "ipython",
    "version": 3
   },
   "file_extension": ".py",
   "mimetype": "text/x-python",
   "name": "python",
   "nbconvert_exporter": "python",
   "pygments_lexer": "ipython3",
   "version": "3.8.0"
  }
 },
 "nbformat": 4,
 "nbformat_minor": 5
}
