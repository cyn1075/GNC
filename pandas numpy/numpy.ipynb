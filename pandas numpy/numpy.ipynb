{
 "cells": [
  {
   "cell_type": "code",
   "execution_count": null,
   "id": "efaf8296-b95c-4d3b-a2d8-7b56d1de3823",
   "metadata": {},
   "outputs": [],
   "source": [
    "import numpy as np\n",
    "\n",
    "# 배열은 빠르고 간단하게 연산을 처리 할 수 있다.\n",
    "\n",
    "# NumPy는 데이터를 연속된 메모리블럭에 저장하고, 일반적인 파이썬 자료형보다 더 적은 메모리를 사용한다.\n",
    "# 또한 내부 연산은 C 언어로 작성되어 메모리를 직접 조작해 처리하기 때문에 배열을 빠르고 효율적으로 처리 할 수 있다.\n",
    "# 리스트에서 연산을 수행하기 위해서는 for 문과 같은 반복문을 사용해서 아이템을 하나씩 꺼내서 처리하고 넣는 형태로 진행해야 한다.\n",
    "# 배열은 이러한 과정 없이 모든 아이템에 한꺼번에 연산을 적용할 수 있다.\n",
    "# 바로 이러한 이유가 numpy 패키지가 데이터 처리에 강력한 이유기도 하다."
   ]
  },
  {
   "cell_type": "code",
   "execution_count": null,
   "id": "7fe49888-f856-4180-a4b3-9bb88b696e21",
   "metadata": {},
   "outputs": [],
   "source": [
    "# 가장 기본적인 배열은 np.array() 함수를 사용해서 만든다.\n",
    "\n",
    "list = [1,2,3]\n",
    "array = np.array(list)\n",
    "array"
   ]
  },
  {
   "cell_type": "code",
   "execution_count": null,
   "id": "f583015e-40f3-4db6-bd4b-15c67026929d",
   "metadata": {},
   "outputs": [],
   "source": [
    "# 값을 하나씩 지정하지 않고, np.zeros()를 사용하여 0으로 초기화된 배열을 만들 수 있다.\n",
    "np.zeros(5)"
   ]
  },
  {
   "cell_type": "code",
   "execution_count": null,
   "id": "32fca9ab-7c1b-456d-a450-f2edd763dfd9",
   "metadata": {},
   "outputs": [],
   "source": [
    "# 튜플을 사용해 0으로 초기화된 2차원 배열을 생성\n",
    "np.zeros((2,3))"
   ]
  },
  {
   "cell_type": "code",
   "execution_count": null,
   "id": "91f5f4e9-5b51-48d2-bd3f-655f42e2eead",
   "metadata": {},
   "outputs": [],
   "source": [
    "# 1로 초기화된 배열 생성\n",
    "np.ones(7)"
   ]
  },
  {
   "cell_type": "code",
   "execution_count": null,
   "id": "f8c2aeec-8011-4647-b014-e0b135cb7f89",
   "metadata": {},
   "outputs": [],
   "source": [
    "# 빈 배열 생성하기\n",
    "# 단, empty는 데이터의 초기화 없이 배열을 생성한다. 그렇기 때문에 zeros, ones보다\n",
    "# 배열을 생성하는 속도는 빠르지만, 의미없는 쓰레기 값으로 채워져 있기 때문에 사용시 유의\n",
    "\n",
    "np.empty(5)"
   ]
  },
  {
   "cell_type": "code",
   "execution_count": null,
   "id": "7b56d87b-719f-4051-a741-913b567b6318",
   "metadata": {},
   "outputs": [],
   "source": [
    "# 파이썬 기본 내장 함수인 range와 유사하게 연속된 숫자를 채워서 배열을 만들기\n",
    "\n",
    "print(np.arange(10))\n",
    "print(np.arange(20,30,2))"
   ]
  },
  {
   "cell_type": "code",
   "execution_count": null,
   "id": "bb38f4f7-562b-4291-81bb-8459e774dc5b",
   "metadata": {},
   "outputs": [],
   "source": [
    "# 랜덤값으로 배열 만들기\n",
    "# rand    ::: 균등분포에서 랜덤 추출\n",
    "# randint ::: 주어진 범위 안에서 랜덤 추출\n",
    "# randn   ::: 표준정규분포(평균이 0이고, 표준편차가 1인 정규분포)에서 랜덤 추출\n",
    "# normal  ::: 정규분포에서 랜덤 추출\n",
    "# seed    ::: 랜덤값 생성기의 시드 지정 (정해진 시드값에 따라 난수를 생성)\n",
    "# shuffle ::: 리스트나 배열의 순서를 섞음 (실무에 사용가능할듯)\n",
    "\n",
    "np.random.rand(2,3)"
   ]
  },
  {
   "cell_type": "code",
   "execution_count": null,
   "id": "ed5e1458-3114-4e44-9cfa-808d88d2bcd9",
   "metadata": {},
   "outputs": [],
   "source": [
    "# 만들어진 배열의 차원을 변경해서 재정의 하기\n",
    "\n",
    "array = np.arange(16)\n",
    "print(array)\n",
    "print(array.reshape(4,4))"
   ]
  },
  {
   "cell_type": "code",
   "execution_count": null,
   "id": "fbec839c-b511-443e-8305-aaa7066cffaa",
   "metadata": {},
   "outputs": [],
   "source": [
    "# 배열안에 담긴 데이터 처리\n",
    "# shape    ::: 배열의 형태 확인\n",
    "# dtype    ::: 배열의 데이터 타입 확인\n",
    "# astype() ::: 배열의 데이터 타입 변경\n",
    "\n",
    "array = np.arange(16)\n",
    "print(array)\n",
    "print(array.shape)\n",
    "print(array.dtype)\n",
    "print(array.astype(float))"
   ]
  },
  {
   "cell_type": "code",
   "execution_count": null,
   "id": "686071b6-ca9b-4e73-93a7-eab40784a2d2",
   "metadata": {},
   "outputs": [],
   "source": [
    "# Boolean Index\n",
    "# 특정 조건에 해당하는 부분만 배열화 하기\n",
    "\n",
    "array = np.array([50,20,40,60,70])\n",
    "print(array)\n",
    "print(array >= 50)          # 조건 값으로 true, false 변환\n",
    "print(array[array >= 50])   # 조건에 맞는 실제 값으로 배열 재 생성"
   ]
  },
  {
   "cell_type": "code",
   "execution_count": null,
   "id": "b693912b-10e6-4120-b262-0affaf5fb648",
   "metadata": {},
   "outputs": [],
   "source": [
    "# NumPy 배열 연산하기\n",
    "\n",
    "array = np.arange(1,5)\n",
    "print(array)\n",
    "print(array + 3)\n",
    "print(array * 3)\n",
    "array2 = np.arange(1,5)\n",
    "print(array2)\n",
    "print(array + array2)  # 인덱스 번호가 다른 경우 예외 발생 (ValueError: operands could not be broadcast together with shapes (4,) (2,) )\n",
    "\n",
    "# 단순 List의 경우 연산처리가 안됨\n",
    "\n",
    "list = [1,2,3,4]\n",
    "print(list)\n",
    "print(list * 2) # + 2의 경우 예외 발생 (TypeError: can only concatenate list (not \"int\") to list)"
   ]
  },
  {
   "cell_type": "code",
   "execution_count": null,
   "id": "6b4aa9d9-4517-4bfb-a516-b4df1d4bac19",
   "metadata": {},
   "outputs": [],
   "source": [
    "# NumPy 배열 통계용 연산\n",
    "\n",
    "array = np.arange(1,5)\n",
    "print(np.square(array))              # 제곱\n",
    "print(np.sqrt(array))                # 제곱근\n",
    "print(np.exp(array))                 # 지수승\n",
    "print(np.log(array))                 # 로그\n",
    "print(np.add(array, np.arange(5,9))) # 덧셈 인덱스 맞지 않으면 예외 발생 (ValueError: operands could not be broadcast together with shapes (4,) (2,) )\n",
    "print(np.sum(array))                 # 합계\n",
    "print(np.cumsum(array))              # 누적합\n",
    "print(np.mean(array))                # 평균\n",
    "print(np.var(array))                 # 편차\n",
    "print(np.std(array))                 # 표준편차\n",
    "print(np.min(array))                 # 최소값\n",
    "print(np.max(array))                 # 최대값\n",
    "print(np.argmin(array))              # 최소값 인덱스\n",
    "print(np.argmax(array))              # 최대값 인덱스"
   ]
  },
  {
   "cell_type": "code",
   "execution_count": null,
   "id": "c88d3ea0-12a8-4cf2-8360-1c7851ac0cf0",
   "metadata": {},
   "outputs": [],
   "source": [
    "# 배열 차원 변형\n",
    "\n",
    "print(np.arange(10))\n",
    "print(np.arange(10).reshape(2,5))                      # 1차원 -> 2차원 배열로 변경\n",
    "print(np.arange(10).reshape(2,5).transpose())          # 차원변형 가로 세로 변경\n",
    "print(np.arange(10).reshape(2,5).T)                    # 축을 지정하지 않는 경우 약어로 다음과 같이 사용가능 ( = transpose())\n",
    "print('-------------------------')\n",
    "print(np.arange(27))\n",
    "print(np.arange(27).reshape(3,3,3))                    # 1차원 -> 3차원 배열로 변경\n",
    "print('-------------------------')\n",
    "print(np.arange(27).reshape(3,3,3).transpose())        # 기본순서 (0,1,2)의 역순 (2,1,0)\n",
    "print('-------------------------')\n",
    "print(np.arange(27).reshape(3,3,3).transpose(1,0,2))\n",
    "#  np.save('shape_array',np.arange(27).reshape(3,3,3).transpose(1,0,2))  # shape_array.npy 파일명으로 저장\n",
    "# print('-------------------------')\n",
    "# print(np.load('shape_array.npy'))\n",
    "# 저장한 파일을 불러오는 코드"
   ]
  },
  {
   "cell_type": "code",
   "execution_count": null,
   "id": "72e41657-a306-474e-9ca9-a7abee521fe7",
   "metadata": {},
   "outputs": [],
   "source": []
  }
 ],
 "metadata": {
  "kernelspec": {
   "display_name": "project",
   "language": "python",
   "name": "project"
  },
  "language_info": {
   "codemirror_mode": {
    "name": "ipython",
    "version": 3
   },
   "file_extension": ".py",
   "mimetype": "text/x-python",
   "name": "python",
   "nbconvert_exporter": "python",
   "pygments_lexer": "ipython3",
   "version": "3.8.0"
  }
 },
 "nbformat": 4,
 "nbformat_minor": 5
}
