{
 "cells": [
  {
   "cell_type": "code",
   "execution_count": null,
   "id": "b2a247b4",
   "metadata": {},
   "outputs": [],
   "source": [
    "import tensorflow as tf\n",
    "import matplotlib.pyplot as plt  #이미지 확인용 모듈\n",
    "import matplotlib.image as mpimg  #이미지 확인용 모듈\n",
    "import os\n",
    "import numpy as np\n",
    "\n",
    "from tensorflow import keras\n",
    "from tensorflow.keras.models import Sequential\n",
    "from tensorflow.keras.layers import Dense, Conv2D, MaxPooling2D, Flatten # layer\n",
    "from tensorflow.keras.preprocessing.image import ImageDataGenerator  #데이터 확장 모듈"
   ]
  },
  {
   "cell_type": "code",
   "execution_count": null,
   "id": "fc2a1b4b",
   "metadata": {},
   "outputs": [],
   "source": [
    "train_dir = './train'\n",
    "test_dir='./test'"
   ]
  },
  {
   "cell_type": "code",
   "execution_count": null,
   "id": "a2cc1c00",
   "metadata": {},
   "outputs": [],
   "source": [
    "# train set의 데이터 확장 설정\n",
    "# validation 20%로 나눔\n",
    "\n",
    "train_datagen = ImageDataGenerator(\n",
    "    rescale=1./255,\n",
    "    rotation_range=20,\n",
    "    width_shift_range=0.2,\n",
    "    height_shift_range=0.2,\n",
    "    shear_range=0.2,\n",
    "    zoom_range=0.2,\n",
    "    horizontal_flip=True,\n",
    "    fill_mode='nearest',   # data 확장시 어떤 방식을 취할지에 대한 파라미터.\n",
    "    validation_split=0.2\n",
    ")"
   ]
  },
  {
   "cell_type": "code",
   "execution_count": null,
   "id": "cef1c7a7",
   "metadata": {},
   "outputs": [],
   "source": [
    "# 모델의 파라미터\n",
    "input_shape = (224, 224, 3)\n",
    "num_classes = 3  # 분류하려는 클래스 개수\n",
    "batch_size = 32  # batch _size"
   ]
  },
  {
   "cell_type": "code",
   "execution_count": null,
   "id": "9e481dee",
   "metadata": {},
   "outputs": [],
   "source": [
    "## train set에 대한 데이터 불러오기 \n",
    "\n",
    "train_generator = train_datagen.flow_from_directory(\n",
    "    train_dir,\n",
    "    target_size=input_shape[:2],\n",
    "    batch_size=batch_size,\n",
    "    class_mode='categorical',\n",
    "    subset='training'  # use the training subset of the data\n",
    ")\n",
    "\n",
    "## validation set에 대한 데이터 불러오기 \n",
    "\n",
    "validation_generator = train_datagen.flow_from_directory(\n",
    "    train_dir,\n",
    "    target_size=input_shape[:2],\n",
    "    batch_size=batch_size,\n",
    "    class_mode='categorical',\n",
    "    subset='validation' \n",
    ")\n",
    "\n",
    "\n",
    "# test set 데이터 확장(generator) 설정. (test_set 이니깐 rescale 파라미터만 사용함)\n",
    "test_datagen = ImageDataGenerator(rescale=1./255)\n",
    "\n",
    "# test_set 에 대한 데이터 불러옴.\n",
    "test_generator = test_datagen.flow_from_directory(\n",
    "        test_dir,\n",
    "        target_size=input_shape[:2],\n",
    "        batch_size=batch_size,\n",
    "        class_mode='categorical')"
   ]
  },
  {
   "cell_type": "code",
   "execution_count": null,
   "id": "95a7486c",
   "metadata": {},
   "outputs": [],
   "source": [
    "# Sequential 모델 생성: 층(layer)을 순차적으로 쌓을 수 있는 모델\n",
    "model = Sequential()\n",
    "# 1번째 합성곱층(Convolutional layer)\n",
    "# 필터 수: 32, 커널 크기: (3, 3), 활성화 함수: ReLU\n",
    "# input_shape: 입력 이미지의 형태 (높이, 너비, 채널 수)\n",
    "model.add(Conv2D(32, (3, 3), activation='relu', input_shape=input_shape))\n",
    "# 1번째 최대풀링층(MaxPooling layer)\n",
    "# 풀링 크기: (2, 2), 공간적 차원을 줄여 특징 추출\n",
    "model.add(MaxPooling2D((2, 2)))\n",
    "# 2번째 합성곱층\n",
    "# 필터 수: 64, 커널 크기: (3, 3), 활성화 함수: ReLU\n",
    "model.add(Conv2D(64, (3, 3), activation='relu'))\n",
    "# 2번째 최대풀링층\n",
    "model.add(MaxPooling2D((2, 2)))\n",
    "# 3번째 합성곱층\n",
    "# 필터 수: 128, 커널 크기: (3, 3), 활성화 함수: ReLU\n",
    "model.add(Conv2D(128, (3, 3), activation='relu'))\n",
    "model.add(MaxPooling2D((2, 2)))\n",
    "model.add(Flatten())\n",
    "# 완전연결층(Dense layer)\n",
    "# 뉴런 수: 128, 활성화 함수: ReLU\n",
    "model.add(Dense(128, activation='relu'))\n",
    "\n",
    "# 출력층(Output layer)\n",
    "# 뉴런 수: num_classes (분류 클래스 수), 활성화 함수: softmax\n",
    "# softmax는 클래스 확률을 반환\n",
    "model.add(Dense(num_classes, activation='softmax'))\n",
    "\n",
    "# 모델 컴파일\n",
    "# 옵티마이저: Adam (효율적이고 널리 쓰이는 최적화 알고리즘)\n",
    "# 손실 함수: categorical_crossentropy (다중 클래스 분류에 적합)\n",
    "# 평가 지표: 정확도(accuracy)\n",
    "model.compile(optimizer='adam',\n",
    "              loss='categorical_crossentropy',\n",
    "              metrics=['accuracy'])"
   ]
  },
  {
   "cell_type": "code",
   "execution_count": null,
   "id": "e247164a",
   "metadata": {
    "scrolled": true
   },
   "outputs": [],
   "source": [
    "# (model.fit에 callbakcs=[Earlystopping] 추가하면 더 좋은 정확도가 나올것이다.)\n",
    "model.fit(\n",
    "    train_generator,\n",
    "    steps_per_epoch=len(train_generator),  #train의 step수\n",
    "    epochs=50,\n",
    "    validation_data=validation_generator,\n",
    "    validation_steps=len(validation_generator)\n",
    ")"
   ]
  },
  {
   "cell_type": "code",
   "execution_count": null,
   "id": "1fad357b",
   "metadata": {},
   "outputs": [],
   "source": [
    "# Evaluate the model on the test data generator\n",
    "test_loss, test_acc = model.evaluate(test_generator, steps=test_generator.n // batch_size, verbose=1)\n",
    "\n",
    "print('Test loss:', test_loss)\n",
    "print('Test accuracy:', test_acc)"
   ]
  },
  {
   "cell_type": "code",
   "execution_count": null,
   "id": "3052aab4",
   "metadata": {},
   "outputs": [],
   "source": [
    "file_list=os.listdir(train_dir+'/Covid')\n",
    "selecet_file=mpimg.imread(train_dir+'/Covid/'+file_list[1])  # 이미지의 픽셀값을 numpy로 반환\n",
    "plt.imshow(selecet_file)\n",
    "plt.show()"
   ]
  },
  {
   "cell_type": "code",
   "execution_count": null,
   "id": "36e1ef79",
   "metadata": {},
   "outputs": [],
   "source": []
  }
 ],
 "metadata": {
  "kernelspec": {
   "display_name": "Python 3 (ipykernel)",
   "language": "python",
   "name": "python3"
  },
  "language_info": {
   "codemirror_mode": {
    "name": "ipython",
    "version": 3
   },
   "file_extension": ".py",
   "mimetype": "text/x-python",
   "name": "python",
   "nbconvert_exporter": "python",
   "pygments_lexer": "ipython3",
   "version": "3.11.7"
  }
 },
 "nbformat": 4,
 "nbformat_minor": 5
}
