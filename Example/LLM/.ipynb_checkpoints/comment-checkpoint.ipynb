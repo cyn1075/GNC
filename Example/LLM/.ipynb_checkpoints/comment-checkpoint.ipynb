{
 "cells": [
  {
   "cell_type": "code",
   "execution_count": 2,
   "id": "b8f05362-327c-441a-b1ce-053ee1858e93",
   "metadata": {},
   "outputs": [
    {
     "name": "stdout",
     "output_type": "stream",
     "text": [
      "Defaulting to user installation because normal site-packages is not writeable\n",
      "Collecting konlpy\n",
      "  Using cached konlpy-0.6.0-py2.py3-none-any.whl.metadata (1.9 kB)\n",
      "Collecting JPype1>=0.7.0 (from konlpy)\n",
      "  Downloading jpype1-1.6.0-cp311-cp311-win_amd64.whl.metadata (5.1 kB)\n",
      "Requirement already satisfied: lxml>=4.1.0 in c:\\programdata\\anaconda3\\lib\\site-packages (from konlpy) (4.9.3)\n",
      "Requirement already satisfied: numpy>=1.6 in c:\\programdata\\anaconda3\\lib\\site-packages (from konlpy) (1.26.4)\n",
      "Requirement already satisfied: packaging in c:\\programdata\\anaconda3\\lib\\site-packages (from JPype1>=0.7.0->konlpy) (23.1)\n",
      "Using cached konlpy-0.6.0-py2.py3-none-any.whl (19.4 MB)\n",
      "Downloading jpype1-1.6.0-cp311-cp311-win_amd64.whl (356 kB)\n",
      "   ---------------------------------------- 0.0/356.6 kB ? eta -:--:--\n",
      "   ---------------------------------------- 0.0/356.6 kB ? eta -:--:--\n",
      "   - -------------------------------------- 10.2/356.6 kB ? eta -:--:--\n",
      "   -- ------------------------------------ 20.5/356.6 kB 131.3 kB/s eta 0:00:03\n",
      "   ------ -------------------------------- 61.4/356.6 kB 409.6 kB/s eta 0:00:01\n",
      "   ---------------------------------------  348.2/356.6 kB 2.2 MB/s eta 0:00:01\n",
      "   ---------------------------------------- 356.6/356.6 kB 1.8 MB/s eta 0:00:00\n",
      "Installing collected packages: JPype1, konlpy\n",
      "Successfully installed JPype1-1.6.0 konlpy-0.6.0\n"
     ]
    }
   ],
   "source": [
    "!pip install konlpy"
   ]
  },
  {
   "cell_type": "code",
   "execution_count": null,
   "id": "7608ca33-0551-4e56-b39e-a8041f210887",
   "metadata": {},
   "outputs": [],
   "source": [
    "from konlpy.tag import Okt\n",
    "from sklearn.feature_extraction.text import CountVectorizer\n",
    "from sklearn.model_selection import train_test_split\n",
    "from sklearn.naive_bayes import MultinomialNB\n",
    "from sklearn.metrics import accuracy_score\n",
    "\n",
    "# 1️⃣ 데이터 준비 (한글 리뷰 + 라벨)\n",
    "reviews = [\n",
    "    \"이 제품 정말 좋아요! 대만족입니다.\",\n",
    "    \"별로에요. 기대보다 실망했습니다.\",\n",
    "    \"가격 대비 성능이 훌륭합니다.\",\n",
    "    \"배송이 너무 늦고 서비스가 별로였어요.\",\n",
    "    \"정말 최고입니다! 다시 구매하고 싶어요.\",\n",
    "    \"품질이 좋지 않고 사용하기 불편합니다.\"\n",
    "]\n",
    "labels = [1, 0, 1, 0, 1, 0]  # 1: 긍정, 0: 부정\n",
    "\n",
    "# 2️⃣ 형태소 분석기(Okt)로 토큰화\n",
    "okt = Okt()\n",
    "def tokenize(text):\n",
    "    return okt.morphs(text)\n",
    "\n",
    "# CountVectorizer에 토큰화 함수 전달\n",
    "vectorizer = CountVectorizer(tokenizer=tokenize)\n",
    "X = vectorizer.fit_transform(reviews)\n",
    "\n",
    "# 3️⃣ 학습/검증 데이터 분리\n",
    "X_train, X_test, y_train, y_test = train_test_split(X, labels, test_size=0.3, random_state=42)\n",
    "\n",
    "# 4️⃣ 나이브 베이즈 모델 학습\n",
    "model = MultinomialNB()\n",
    "model.fit(X_train, y_train)\n",
    "\n",
    "# 5️⃣ 모델 평가\n",
    "y_pred = model.predict(X_test)\n",
    "print(\"정확도:\", accuracy_score(y_test, y_pred))\n",
    "\n",
    "# 6️⃣ 새로운 리뷰 예측\n",
    "new_reviews = [\n",
    "    \"이 제품 마음에 들어요. 추천합니다.\",\n",
    "    \"사용하기 불편하고 별로에요.\"\n",
    "]\n",
    "X_new = vectorizer.transform(new_reviews)\n",
    "predictions = model.predict(X_new)\n",
    "\n",
    "for review, pred in zip(new_reviews, predictions):\n",
    "    print(f\"{review} -> {'긍정' if pred==1 else '부정'}\")"
   ]
  },
  {
   "cell_type": "code",
   "execution_count": null,
   "id": "69f2da35-79b4-41dd-970d-9a92648a83d5",
   "metadata": {},
   "outputs": [],
   "source": []
  }
 ],
 "metadata": {
  "kernelspec": {
   "display_name": "Python 3 (ipykernel)",
   "language": "python",
   "name": "python3"
  },
  "language_info": {
   "codemirror_mode": {
    "name": "ipython",
    "version": 3
   },
   "file_extension": ".py",
   "mimetype": "text/x-python",
   "name": "python",
   "nbconvert_exporter": "python",
   "pygments_lexer": "ipython3",
   "version": "3.11.7"
  }
 },
 "nbformat": 4,
 "nbformat_minor": 5
}
